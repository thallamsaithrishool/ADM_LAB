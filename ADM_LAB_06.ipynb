{
  "nbformat": 4,
  "nbformat_minor": 0,
  "metadata": {
    "colab": {
      "provenance": [],
      "authorship_tag": "ABX9TyO44/TZRFORvktNmsxiGEkG",
      "include_colab_link": true
    },
    "kernelspec": {
      "name": "python3",
      "display_name": "Python 3"
    },
    "language_info": {
      "name": "python"
    }
  },
  "cells": [
    {
      "cell_type": "markdown",
      "metadata": {
        "id": "view-in-github",
        "colab_type": "text"
      },
      "source": [
        "<a href=\"https://colab.research.google.com/github/thallamsaithrishool/ADM_LAB/blob/main/ADM_LAB_06.ipynb\" target=\"_parent\"><img src=\"https://colab.research.google.com/assets/colab-badge.svg\" alt=\"Open In Colab\"/></a>"
      ]
    },
    {
      "cell_type": "code",
      "execution_count": 20,
      "metadata": {
        "id": "p8Jiaag6dQ-Y"
      },
      "outputs": [],
      "source": [
        "import pandas as pd"
      ]
    },
    {
      "cell_type": "code",
      "source": [
        "from sklearn.preprocessing import LabelEncoder,OneHotEncoder"
      ],
      "metadata": {
        "id": "YzbBGQHDdi3q"
      },
      "execution_count": 21,
      "outputs": []
    },
    {
      "cell_type": "code",
      "source": [
        "data={'Category':['A','B','C','A','B']}\n",
        "df=pd.DataFrame(data)"
      ],
      "metadata": {
        "id": "XX2Tnk0Qdvn2"
      },
      "execution_count": 22,
      "outputs": []
    },
    {
      "cell_type": "code",
      "source": [
        "label_encoder=LabelEncoder()\n",
        "df['Label_Encoded']=label_encoder.fit_transform(df['Category'])"
      ],
      "metadata": {
        "id": "2K2RgTfXd__z"
      },
      "execution_count": 23,
      "outputs": []
    },
    {
      "cell_type": "code",
      "source": [
        "one_hot_encoded=pd.get_dummies(df['Category'],prefix='Category')\n",
        "df=pd.concat([df,one_hot_encoded],axis=1)\n",
        "print(df)"
      ],
      "metadata": {
        "colab": {
          "base_uri": "https://localhost:8080/"
        },
        "id": "MvodSF2jeUSl",
        "outputId": "5eaf4590-0f08-4d2b-ddb9-1dba299986e1"
      },
      "execution_count": 24,
      "outputs": [
        {
          "output_type": "stream",
          "name": "stdout",
          "text": [
            "  Category  Label_Encoded  Category_A  Category_B  Category_C\n",
            "0        A              0        True       False       False\n",
            "1        B              1       False        True       False\n",
            "2        C              2       False       False        True\n",
            "3        A              0        True       False       False\n",
            "4        B              1       False        True       False\n"
          ]
        }
      ]
    },
    {
      "cell_type": "code",
      "source": [
        "from datetime import datetime"
      ],
      "metadata": {
        "id": "9vu2PROJeunI"
      },
      "execution_count": 25,
      "outputs": []
    },
    {
      "cell_type": "code",
      "source": [
        "data={'Name':['Alice','Bob'],'Date_of_Birth':['1990-05-14','1985-08-23']}\n",
        "df=pd.DataFrame(data)"
      ],
      "metadata": {
        "id": "em3N6Vwqe3aX"
      },
      "execution_count": 26,
      "outputs": []
    },
    {
      "cell_type": "code",
      "source": [
        "df['Date_of_Birth']=pd.to_datetime(df['Date_of_Birth'])\n",
        "current_year=datetime.now().year\n",
        "df['Age']=current_year-df['Date_of_Birth'].dt.year\n",
        "print(df)"
      ],
      "metadata": {
        "colab": {
          "base_uri": "https://localhost:8080/"
        },
        "id": "3gxiEMQmfR0W",
        "outputId": "c8f95b81-0e29-4c4a-8c71-4f31dbdeef3d"
      },
      "execution_count": 27,
      "outputs": [
        {
          "output_type": "stream",
          "name": "stdout",
          "text": [
            "    Name Date_of_Birth  Age\n",
            "0  Alice    1990-05-14   35\n",
            "1    Bob    1985-08-23   40\n"
          ]
        }
      ]
    },
    {
      "cell_type": "code",
      "source": [
        "data={'Category':['A','A','B','B','C'],\n",
        "      'Value':[10,20,10,30,40]}\n",
        "df=pd.DataFrame(data)"
      ],
      "metadata": {
        "id": "JiHp815jgQky"
      },
      "execution_count": 28,
      "outputs": []
    },
    {
      "cell_type": "code",
      "source": [
        "grouped=df.groupby('Category').agg({'Value':['sum','mean']})"
      ],
      "metadata": {
        "id": "JaGsHPHCg7GP"
      },
      "execution_count": 29,
      "outputs": []
    },
    {
      "cell_type": "code",
      "source": [
        "print(\"Grouped Data:\\n\",grouped)"
      ],
      "metadata": {
        "colab": {
          "base_uri": "https://localhost:8080/"
        },
        "id": "Q40dXL85hnGO",
        "outputId": "d67a4482-7e0a-4eb0-c4d1-aff8b623041d"
      },
      "execution_count": 30,
      "outputs": [
        {
          "output_type": "stream",
          "name": "stdout",
          "text": [
            "Grouped Data:\n",
            "          Value      \n",
            "           sum  mean\n",
            "Category            \n",
            "A           30  15.0\n",
            "B           40  20.0\n",
            "C           40  40.0\n"
          ]
        }
      ]
    },
    {
      "cell_type": "code",
      "source": [
        "pivot=df.pivot_table(index='Category',values='Value',aggfunc=['sum','mean'])\n",
        "print(\"\\n Pivot Table:\\n\",pivot)"
      ],
      "metadata": {
        "colab": {
          "base_uri": "https://localhost:8080/"
        },
        "id": "-J7nH85whuyX",
        "outputId": "8a136fe5-bae5-4210-fafb-d700f5b20091"
      },
      "execution_count": 31,
      "outputs": [
        {
          "output_type": "stream",
          "name": "stdout",
          "text": [
            "\n",
            " Pivot Table:\n",
            "            sum  mean\n",
            "         Value Value\n",
            "Category            \n",
            "A           30  15.0\n",
            "B           40  20.0\n",
            "C           40  40.0\n"
          ]
        }
      ]
    }
  ]
}